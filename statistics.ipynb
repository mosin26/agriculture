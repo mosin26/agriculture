{
 "cells": [
  {
   "cell_type": "code",
   "execution_count": 1,
   "metadata": {},
   "outputs": [],
   "source": [
    "import pandas as pd\n",
    "import seaborn as sb\n",
    "import matplotlib.pyplot as plt\n",
    "%matplotlib inline"
   ]
  },
  {
   "cell_type": "code",
   "execution_count": 2,
   "metadata": {},
   "outputs": [],
   "source": [
    "br1 = pd.read_excel('Структура посевных площадей на 2016.xls', sheet_name='бр 1', skiprows=6, skip_footer=20, \n",
    "                  index_col=0, usecols=[0, 1, 8])\n",
    "br2 = pd.read_excel('Структура посевных площадей на 2016.xls', sheet_name='бр 2', skiprows=6, skip_footer=29, \n",
    "                  index_col=0, usecols=[0, 1, 8])\n",
    "br3 = pd.read_excel('Структура посевных площадей на 2016.xls', sheet_name='бр 3', skiprows=6, skip_footer=23, \n",
    "                  index_col=0, usecols=[0, 1, 8])"
   ]
  },
  {
   "cell_type": "code",
   "execution_count": 3,
   "metadata": {},
   "outputs": [],
   "source": [
    "fields = pd.concat([br1, br2, br3])"
   ]
  },
  {
   "cell_type": "code",
   "execution_count": 11,
   "metadata": {},
   "outputs": [
    {
     "data": {
      "text/html": [
       "<div>\n",
       "<style scoped>\n",
       "    .dataframe tbody tr th:only-of-type {\n",
       "        vertical-align: middle;\n",
       "    }\n",
       "\n",
       "    .dataframe tbody tr th {\n",
       "        vertical-align: top;\n",
       "    }\n",
       "\n",
       "    .dataframe thead th {\n",
       "        text-align: right;\n",
       "    }\n",
       "</style>\n",
       "<table border=\"1\" class=\"dataframe\">\n",
       "  <thead>\n",
       "    <tr style=\"text-align: right;\">\n",
       "      <th></th>\n",
       "      <th>Площадь, га</th>\n",
       "      <th>2016</th>\n",
       "    </tr>\n",
       "    <tr>\n",
       "      <th>№ поля</th>\n",
       "      <th></th>\n",
       "      <th></th>\n",
       "    </tr>\n",
       "  </thead>\n",
       "  <tbody>\n",
       "    <tr>\n",
       "      <th>20</th>\n",
       "      <td>113.0</td>\n",
       "      <td>кукуруза</td>\n",
       "    </tr>\n",
       "    <tr>\n",
       "      <th>21</th>\n",
       "      <td>117.0</td>\n",
       "      <td>кукуруза</td>\n",
       "    </tr>\n",
       "    <tr>\n",
       "      <th>22</th>\n",
       "      <td>117.0</td>\n",
       "      <td>подсолнечник</td>\n",
       "    </tr>\n",
       "    <tr>\n",
       "      <th>23</th>\n",
       "      <td>115.0</td>\n",
       "      <td>подсолнечник</td>\n",
       "    </tr>\n",
       "  </tbody>\n",
       "</table>\n",
       "</div>"
      ],
      "text/plain": [
       "        Площадь, га          2016\n",
       "№ поля                           \n",
       "20            113.0      кукуруза\n",
       "21            117.0      кукуруза\n",
       "22            117.0  подсолнечник\n",
       "23            115.0  подсолнечник"
      ]
     },
     "execution_count": 11,
     "metadata": {},
     "output_type": "execute_result"
    }
   ],
   "source": [
    "fields.loc[[20,21,22,23]]"
   ]
  },
  {
   "cell_type": "code",
   "execution_count": 4,
   "metadata": {},
   "outputs": [
    {
     "data": {
      "text/plain": [
       "оз. пшеница     55\n",
       "лен             21\n",
       "нут             12\n",
       "подсолнечник    11\n",
       "кукуруза         9\n",
       "сах. свекла      1\n",
       "оз. ячмень       1\n",
       "Name: 2016, dtype: int64"
      ]
     },
     "execution_count": 4,
     "metadata": {},
     "output_type": "execute_result"
    }
   ],
   "source": [
    "fields[2016].value_counts()"
   ]
  },
  {
   "cell_type": "code",
   "execution_count": 99,
   "metadata": {},
   "outputs": [
    {
     "name": "stdout",
     "output_type": "stream",
     "text": [
      "3840.2999999999997\n",
      "1214.1\n",
      "890.0\n",
      "1043.0\n",
      "913.8000000000001\n",
      "130.0\n",
      "157.0\n"
     ]
    }
   ],
   "source": [
    "print(sum(fields['Площадь, га'][fields[2016]=='оз. пшеница']))\n",
    "print(sum(fields['Площадь, га'][fields[2016]=='лен']))\n",
    "print(sum(fields['Площадь, га'][fields[2016]=='нут']))\n",
    "print(sum(fields['Площадь, га'][fields[2016]=='подсолнечник']))\n",
    "print(sum(fields['Площадь, га'][fields[2016]=='кукуруза']))\n",
    "print(sum(fields['Площадь, га'][fields[2016]=='оз. ячмень']))\n",
    "print(sum(fields['Площадь, га'][fields[2016]=='сах. свекла']))"
   ]
  },
  {
   "cell_type": "code",
   "execution_count": 122,
   "metadata": {},
   "outputs": [
    {
     "data": {
      "image/png": "[encoded data removed]",
      "text/plain": [
       "<Figure size 720x288 with 1 Axes>"
      ]
     },
     "metadata": {},
     "output_type": "display_data"
    }
   ],
   "source": [
    "plt.figure(figsize=(10,4))\n",
    "sb.barplot(x=fields[2016].value_counts().keys(), y=fields[2016].value_counts().values)\n",
    "plt.ylabel('fields')\n",
    "plt.show()"
   ]
  },
  {
   "cell_type": "code",
   "execution_count": 124,
   "metadata": {},
   "outputs": [
    {
     "data": {
      "image/png": "[encoded data removed]",
      "text/plain": [
       "<Figure size 720x288 with 1 Axes>"
      ]
     },
     "metadata": {},
     "output_type": "display_data"
    }
   ],
   "source": [
    "plt.figure(figsize=(10,4))\n",
    "sb.barplot(x=fields[2016].value_counts().keys(), \n",
    "           y=[sum(fields['Площадь, га'][fields[2016]==crop]) for crop in fields[2016].value_counts().keys()])\n",
    "plt.ylabel('total area, ha')\n",
    "plt.show()"
   ]
  },
  {
   "cell_type": "code",
   "execution_count": null,
   "metadata": {},
   "outputs": [],
   "source": []
  }
 ],
 "metadata": {
  "kernelspec": {
   "display_name": "Python 3",
   "language": "python",
   "name": "python3"
  },
  "language_info": {
   "codemirror_mode": {
    "name": "ipython",
    "version": 3
   },
   "file_extension": ".py",
   "mimetype": "text/x-python",
   "name": "python",
   "nbconvert_exporter": "python",
   "pygments_lexer": "ipython3",
   "version": "3.6.5"
  }
 },
 "nbformat": 4,
 "nbformat_minor": 2
}
