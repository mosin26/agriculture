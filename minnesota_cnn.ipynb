{
 "cells": [
  {
   "cell_type": "code",
   "execution_count": 1,
   "metadata": {},
   "outputs": [],
   "source": [
    "import numpy as np\n",
    "from PIL import Image\n",
    "from tqdm import tqdm\n",
    "from skimage.exposure import equalize_hist\n",
    "import matplotlib.pyplot as plt\n",
    "%matplotlib inline"
   ]
  },
  {
   "cell_type": "code",
   "execution_count": 2,
   "metadata": {},
   "outputs": [],
   "source": [
    "def extend(input_image, radius, boundary='zero'):\n",
    "    if input_image.ndim == 2:\n",
    "        extended_image = np.zeros((input_image.shape[0]+2*radius, input_image.shape[1]+2*radius),\n",
    "                                  dtype=input_image.dtype)\n",
    "    else:\n",
    "        extended_image = np.zeros((input_image.shape[0]+2*radius, input_image.shape[1]+2*radius, input_image.shape[2]),\n",
    "                                 dtype=input_image.dtype)\n",
    "    extended_image[radius:-radius,radius:-radius] = input_image\n",
    "    \n",
    "    if boundary == 'periodic':\n",
    "        extended_image[:radius,:radius] = input_image[-radius:,-radius:]\n",
    "        extended_image[-radius:,-radius:] = input_image[:radius,:radius]\n",
    "        extended_image[:radius,-radius:] = input_image[-radius:,:radius]\n",
    "        extended_image[-radius:,:radius] = input_image[:radius,-radius:]\n",
    "\n",
    "        extended_image[:radius,radius:-radius] = input_image[-radius:,:]\n",
    "        extended_image[-radius:,radius:-radius] = input_image[:radius,:]\n",
    "        extended_image[radius:-radius, :radius] = input_image[:,-radius:]\n",
    "        extended_image[radius:-radius, -radius:] = input_image[:,:radius]\n",
    "    elif boundary == 'mirror':\n",
    "        extended_image[:radius,:radius] = np.flipud(np.fliplr(input_image[:radius,:radius]))\n",
    "        extended_image[-radius:,-radius:] = np.flipud(np.fliplr(input_image[-radius:,-radius:]))\n",
    "        extended_image[:radius,-radius:] = np.flipud(np.fliplr(input_image[:radius,-radius:]))\n",
    "        extended_image[-radius:,:radius] = np.flipud(np.fliplr(input_image[-radius:,:radius]))\n",
    "\n",
    "        extended_image[:radius,radius:-radius] = np.flipud(input_image[:radius,:])\n",
    "        extended_image[-radius:,radius:-radius] = np.flipud(input_image[-radius:,:])\n",
    "        extended_image[radius:-radius, :radius] = np.fliplr(input_image[:,:radius])\n",
    "        extended_image[radius:-radius, -radius:] = np.fliplr(input_image[:,-radius:])\n",
    "    \n",
    "    return extended_image"
   ]
  },
  {
   "cell_type": "markdown",
   "metadata": {},
   "source": [
    "# Train CNN"
   ]
  },
  {
   "cell_type": "code",
   "execution_count": 199,
   "metadata": {},
   "outputs": [],
   "source": [
    "crops = np.array(Image.open('/Users/vasilii/Dropbox/minnesota/crops_map.tif'))\n",
    "band_01 = np.array(Image.open('/Users/vasilii/Dropbox/minnesota/band_01.tif'))\n",
    "band_02 = np.array(Image.open('/Users/vasilii/Dropbox/minnesota/band_02.tif'))\n",
    "band_03 = np.array(Image.open('/Users/vasilii/Dropbox/minnesota/band_03.tif'))\n",
    "band_04 = np.array(Image.open('/Users/vasilii/Dropbox/minnesota/band_04.tif'))\n",
    "band_05 = np.array(Image.open('/Users/vasilii/Dropbox/minnesota/band_05.tif'))\n",
    "band_06 = np.array(Image.open('/Users/vasilii/Dropbox/minnesota/band_06.tif'))\n",
    "band_07 = np.array(Image.open('/Users/vasilii/Dropbox/minnesota/band_07.tif'))\n",
    "band_08 = np.array(Image.open('/Users/vasilii/Dropbox/minnesota/band_08.tif'))\n",
    "band_8A = np.array(Image.open('/Users/vasilii/Dropbox/minnesota/band_8A.tif'))\n",
    "band_09 = np.array(Image.open('/Users/vasilii/Dropbox/minnesota/band_09.tif'))\n",
    "band_10 = np.array(Image.open('/Users/vasilii/Dropbox/minnesota/band_10.tif'))\n",
    "band_11 = np.array(Image.open('/Users/vasilii/Dropbox/minnesota/band_11.tif'))\n",
    "band_12 = np.array(Image.open('/Users/vasilii/Dropbox/minnesota/band_12.tif'))"
   ]
  },
  {
   "cell_type": "code",
   "execution_count": 200,
   "metadata": {},
   "outputs": [],
   "source": [
    "band_01 = equalize_hist(band_01)\n",
    "band_02 = equalize_hist(band_02)\n",
    "band_03 = equalize_hist(band_03)\n",
    "band_04 = equalize_hist(band_04)\n",
    "band_05 = equalize_hist(band_05)\n",
    "band_06 = equalize_hist(band_06)\n",
    "band_07 = equalize_hist(band_07)\n",
    "band_08 = equalize_hist(band_08)\n",
    "band_8A = equalize_hist(band_8A)\n",
    "band_09 = equalize_hist(band_09)\n",
    "band_10 = equalize_hist(band_10)\n",
    "band_11 = equalize_hist(band_11)\n",
    "band_12 = equalize_hist(band_12)"
   ]
  },
  {
   "cell_type": "code",
   "execution_count": 201,
   "metadata": {},
   "outputs": [],
   "source": [
    "crops = crops[1000:,:-1000]\n",
    "\n",
    "band_01 = band_01[1000:,:-1000]\n",
    "band_02 = band_02[1000:,:-1000]\n",
    "band_03 = band_03[1000:,:-1000]\n",
    "band_04 = band_04[1000:,:-1000]\n",
    "band_05 = band_05[1000:,:-1000]\n",
    "band_06 = band_06[1000:,:-1000]\n",
    "band_07 = band_07[1000:,:-1000]\n",
    "band_08 = band_08[1000:,:-1000]\n",
    "band_8A = band_8A[1000:,:-1000]\n",
    "band_09 = band_09[1000:,:-1000]\n",
    "band_10 = band_10[1000:,:-1000]\n",
    "band_11 = band_11[1000:,:-1000]\n",
    "band_12 = band_12[1000:,:-1000]\n",
    "\n",
    "ndvi = (band_08 - band_04) / (band_08 + band_04)\n",
    "lswi = (band_08 - band_11) / (band_08 + band_11)"
   ]
  },
  {
   "cell_type": "markdown",
   "metadata": {},
   "source": [
    "We extend images because some of the classified pixels can be close to the boarders."
   ]
  },
  {
   "cell_type": "code",
   "execution_count": 202,
   "metadata": {},
   "outputs": [],
   "source": [
    "crops = extend(crops, 100)\n",
    "band_01 = extend(band_01, 100, boundary='mirror')\n",
    "band_02 = extend(band_02, 100, boundary='mirror')\n",
    "band_03 = extend(band_03, 100, boundary='mirror')\n",
    "band_04 = extend(band_04, 100, boundary='mirror')\n",
    "band_05 = extend(band_05, 100, boundary='mirror')\n",
    "band_06 = extend(band_06, 100, boundary='mirror')\n",
    "band_07 = extend(band_07, 100, boundary='mirror')\n",
    "band_08 = extend(band_08, 100, boundary='mirror')\n",
    "band_8A = extend(band_8A, 100, boundary='mirror')\n",
    "band_09 = extend(band_09, 100, boundary='mirror')\n",
    "band_10 = extend(band_10, 100, boundary='mirror')\n",
    "band_11 = extend(band_11, 100, boundary='mirror')\n",
    "band_12 = extend(band_12, 100, boundary='mirror')\n",
    "ndvi = extend(ndvi, 100, boundary='mirror')\n",
    "lswi = extend(lswi, 100, boundary='mirror')\n",
    "evi = extend(evi, 100, boundary='mirror')"
   ]
  },
  {
   "cell_type": "code",
   "execution_count": 203,
   "metadata": {},
   "outputs": [],
   "source": [
    "corn = np.where(crops==1)\n",
    "wheat = np.where(crops==23)\n",
    "soybeans = np.where(crops==5)\n",
    "drybeans = np.where(crops==42)\n",
    "sugarbeets = np.where(crops==41)"
   ]
  },
  {
   "cell_type": "code",
   "execution_count": 204,
   "metadata": {},
   "outputs": [
    {
     "name": "stdout",
     "output_type": "stream",
     "text": [
      "(873894,)\n",
      "(1109176,)\n",
      "(1503186,)\n",
      "(284400,)\n",
      "(470115,)\n"
     ]
    }
   ],
   "source": [
    "print(corn[0].shape)\n",
    "print(wheat[0].shape)\n",
    "print(soybeans[0].shape)\n",
    "print(drybeans[0].shape)\n",
    "print(sugarbeets[0].shape)"
   ]
  },
  {
   "cell_type": "code",
   "execution_count": 205,
   "metadata": {},
   "outputs": [],
   "source": [
    "sample_size = 1000\n",
    "r = np.random.choice(range(len(corn[0])), size=sample_size, replace=False)\n",
    "corn = (corn[0][r], corn[1][r])\n",
    "r = np.random.choice(range(len(wheat[0])), size=sample_size, replace=False)\n",
    "wheat = (wheat[0][r], wheat[1][r])\n",
    "r = np.random.choice(range(len(soybeans[0])), size=sample_size, replace=False)\n",
    "soybeans = (soybeans[0][r], soybeans[1][r])\n",
    "r = np.random.choice(range(len(drybeans[0])), size=sample_size, replace=False)\n",
    "drybeans = (drybeans[0][r], drybeans[1][r])\n",
    "r = np.random.choice(range(len(sugarbeets[0])), size=sample_size, replace=False)\n",
    "sugarbeets = (sugarbeets[0][r], sugarbeets[1][r])"
   ]
  },
  {
   "cell_type": "markdown",
   "metadata": {},
   "source": [
    "Crop patches."
   ]
  },
  {
   "cell_type": "code",
   "execution_count": 206,
   "metadata": {},
   "outputs": [],
   "source": [
    "s = 22 # neighborhood radius of the classified pixel\n",
    "\n",
    "images_corn = [np.dstack([\n",
    "                band_01[pixel[0]-s:pixel[0]+s+1, pixel[1]-s:pixel[1]+s+1],\n",
    "                band_02[pixel[0]-s:pixel[0]+s+1, pixel[1]-s:pixel[1]+s+1],\n",
    "                band_03[pixel[0]-s:pixel[0]+s+1, pixel[1]-s:pixel[1]+s+1],\n",
    "                band_04[pixel[0]-s:pixel[0]+s+1, pixel[1]-s:pixel[1]+s+1],\n",
    "                band_05[pixel[0]-s:pixel[0]+s+1, pixel[1]-s:pixel[1]+s+1],\n",
    "                band_06[pixel[0]-s:pixel[0]+s+1, pixel[1]-s:pixel[1]+s+1],\n",
    "                band_07[pixel[0]-s:pixel[0]+s+1, pixel[1]-s:pixel[1]+s+1],\n",
    "                band_08[pixel[0]-s:pixel[0]+s+1, pixel[1]-s:pixel[1]+s+1],\n",
    "                band_8A[pixel[0]-s:pixel[0]+s+1, pixel[1]-s:pixel[1]+s+1],\n",
    "                band_09[pixel[0]-s:pixel[0]+s+1, pixel[1]-s:pixel[1]+s+1],\n",
    "                band_10[pixel[0]-s:pixel[0]+s+1, pixel[1]-s:pixel[1]+s+1],\n",
    "                band_11[pixel[0]-s:pixel[0]+s+1, pixel[1]-s:pixel[1]+s+1],\n",
    "                band_12[pixel[0]-s:pixel[0]+s+1, pixel[1]-s:pixel[1]+s+1],\n",
    "                ndvi[pixel[0]-s:pixel[0]+s+1, pixel[1]-s:pixel[1]+s+1],\n",
    "                lswi[pixel[0]-s:pixel[0]+s+1, pixel[1]-s:pixel[1]+s+1]]) for pixel in np.column_stack((corn[0], corn[1]))]\n",
    "\n",
    "images_wheat = [np.dstack([\n",
    "    band_01[pixel[0]-s:pixel[0]+s+1, pixel[1]-s:pixel[1]+s+1],\n",
    "                band_02[pixel[0]-s:pixel[0]+s+1, pixel[1]-s:pixel[1]+s+1],\n",
    "                band_03[pixel[0]-s:pixel[0]+s+1, pixel[1]-s:pixel[1]+s+1],\n",
    "                band_04[pixel[0]-s:pixel[0]+s+1, pixel[1]-s:pixel[1]+s+1],\n",
    "                band_05[pixel[0]-s:pixel[0]+s+1, pixel[1]-s:pixel[1]+s+1],\n",
    "                band_06[pixel[0]-s:pixel[0]+s+1, pixel[1]-s:pixel[1]+s+1],\n",
    "                band_07[pixel[0]-s:pixel[0]+s+1, pixel[1]-s:pixel[1]+s+1],\n",
    "                band_08[pixel[0]-s:pixel[0]+s+1, pixel[1]-s:pixel[1]+s+1],\n",
    "                band_8A[pixel[0]-s:pixel[0]+s+1, pixel[1]-s:pixel[1]+s+1],\n",
    "                band_09[pixel[0]-s:pixel[0]+s+1, pixel[1]-s:pixel[1]+s+1],\n",
    "                band_10[pixel[0]-s:pixel[0]+s+1, pixel[1]-s:pixel[1]+s+1],\n",
    "                band_11[pixel[0]-s:pixel[0]+s+1, pixel[1]-s:pixel[1]+s+1],\n",
    "                band_12[pixel[0]-s:pixel[0]+s+1, pixel[1]-s:pixel[1]+s+1],\n",
    "                ndvi[pixel[0]-s:pixel[0]+s+1, pixel[1]-s:pixel[1]+s+1],\n",
    "                lswi[pixel[0]-s:pixel[0]+s+1, pixel[1]-s:pixel[1]+s+1]]) for pixel in np.column_stack((wheat[0], wheat[1]))]\n",
    "\n",
    "images_soybeans = [np.dstack([\n",
    "    band_01[pixel[0]-s:pixel[0]+s+1, pixel[1]-s:pixel[1]+s+1],\n",
    "                band_02[pixel[0]-s:pixel[0]+s+1, pixel[1]-s:pixel[1]+s+1],\n",
    "                band_03[pixel[0]-s:pixel[0]+s+1, pixel[1]-s:pixel[1]+s+1],\n",
    "                band_04[pixel[0]-s:pixel[0]+s+1, pixel[1]-s:pixel[1]+s+1],\n",
    "                band_05[pixel[0]-s:pixel[0]+s+1, pixel[1]-s:pixel[1]+s+1],\n",
    "                band_06[pixel[0]-s:pixel[0]+s+1, pixel[1]-s:pixel[1]+s+1],\n",
    "                band_07[pixel[0]-s:pixel[0]+s+1, pixel[1]-s:pixel[1]+s+1],\n",
    "                band_08[pixel[0]-s:pixel[0]+s+1, pixel[1]-s:pixel[1]+s+1],\n",
    "                band_8A[pixel[0]-s:pixel[0]+s+1, pixel[1]-s:pixel[1]+s+1],\n",
    "                band_09[pixel[0]-s:pixel[0]+s+1, pixel[1]-s:pixel[1]+s+1],\n",
    "                band_10[pixel[0]-s:pixel[0]+s+1, pixel[1]-s:pixel[1]+s+1],\n",
    "                band_11[pixel[0]-s:pixel[0]+s+1, pixel[1]-s:pixel[1]+s+1],\n",
    "                band_12[pixel[0]-s:pixel[0]+s+1, pixel[1]-s:pixel[1]+s+1],\n",
    "                ndvi[pixel[0]-s:pixel[0]+s+1, pixel[1]-s:pixel[1]+s+1],\n",
    "                lswi[pixel[0]-s:pixel[0]+s+1, pixel[1]-s:pixel[1]+s+1]]) for pixel in np.column_stack((soybeans[0], soybeans[1]))]\n",
    "\n",
    "images_drybeans = [np.dstack([\n",
    "    band_01[pixel[0]-s:pixel[0]+s+1, pixel[1]-s:pixel[1]+s+1],\n",
    "                band_02[pixel[0]-s:pixel[0]+s+1, pixel[1]-s:pixel[1]+s+1],\n",
    "                band_03[pixel[0]-s:pixel[0]+s+1, pixel[1]-s:pixel[1]+s+1],\n",
    "                band_04[pixel[0]-s:pixel[0]+s+1, pixel[1]-s:pixel[1]+s+1],\n",
    "                band_05[pixel[0]-s:pixel[0]+s+1, pixel[1]-s:pixel[1]+s+1],\n",
    "                band_06[pixel[0]-s:pixel[0]+s+1, pixel[1]-s:pixel[1]+s+1],\n",
    "                band_07[pixel[0]-s:pixel[0]+s+1, pixel[1]-s:pixel[1]+s+1],\n",
    "                band_08[pixel[0]-s:pixel[0]+s+1, pixel[1]-s:pixel[1]+s+1],\n",
    "                band_8A[pixel[0]-s:pixel[0]+s+1, pixel[1]-s:pixel[1]+s+1],\n",
    "                band_09[pixel[0]-s:pixel[0]+s+1, pixel[1]-s:pixel[1]+s+1],\n",
    "                band_10[pixel[0]-s:pixel[0]+s+1, pixel[1]-s:pixel[1]+s+1],\n",
    "                band_11[pixel[0]-s:pixel[0]+s+1, pixel[1]-s:pixel[1]+s+1],\n",
    "                band_12[pixel[0]-s:pixel[0]+s+1, pixel[1]-s:pixel[1]+s+1],\n",
    "                ndvi[pixel[0]-s:pixel[0]+s+1, pixel[1]-s:pixel[1]+s+1],\n",
    "                lswi[pixel[0]-s:pixel[0]+s+1, pixel[1]-s:pixel[1]+s+1]]) for pixel in np.column_stack((drybeans[0], drybeans[1]))]\n",
    "\n",
    "images_sugarbeets = [np.dstack([\n",
    "    band_01[pixel[0]-s:pixel[0]+s+1, pixel[1]-s:pixel[1]+s+1],\n",
    "                band_02[pixel[0]-s:pixel[0]+s+1, pixel[1]-s:pixel[1]+s+1],\n",
    "                band_03[pixel[0]-s:pixel[0]+s+1, pixel[1]-s:pixel[1]+s+1],\n",
    "                band_04[pixel[0]-s:pixel[0]+s+1, pixel[1]-s:pixel[1]+s+1],\n",
    "                band_05[pixel[0]-s:pixel[0]+s+1, pixel[1]-s:pixel[1]+s+1],\n",
    "                band_06[pixel[0]-s:pixel[0]+s+1, pixel[1]-s:pixel[1]+s+1],\n",
    "                band_07[pixel[0]-s:pixel[0]+s+1, pixel[1]-s:pixel[1]+s+1],\n",
    "                band_08[pixel[0]-s:pixel[0]+s+1, pixel[1]-s:pixel[1]+s+1],\n",
    "                band_8A[pixel[0]-s:pixel[0]+s+1, pixel[1]-s:pixel[1]+s+1],\n",
    "                band_09[pixel[0]-s:pixel[0]+s+1, pixel[1]-s:pixel[1]+s+1],\n",
    "                band_10[pixel[0]-s:pixel[0]+s+1, pixel[1]-s:pixel[1]+s+1],\n",
    "                band_11[pixel[0]-s:pixel[0]+s+1, pixel[1]-s:pixel[1]+s+1],\n",
    "                band_12[pixel[0]-s:pixel[0]+s+1, pixel[1]-s:pixel[1]+s+1],\n",
    "                ndvi[pixel[0]-s:pixel[0]+s+1, pixel[1]-s:pixel[1]+s+1],\n",
    "                lswi[pixel[0]-s:pixel[0]+s+1, pixel[1]-s:pixel[1]+s+1]]) for pixel in np.column_stack((sugarbeets[0], sugarbeets[1]))]"
   ]
  },
  {
   "cell_type": "code",
   "execution_count": 207,
   "metadata": {},
   "outputs": [],
   "source": [
    "X = np.vstack((images_corn, images_wheat, images_soybeans, images_drybeans, images_sugarbeets))\n",
    "y = np.hstack(([0]*len(images_corn), [1]*len(images_wheat), [2]*len(images_soybeans), [3]*len(images_drybeans), [4]*len(images_sugarbeets)))"
   ]
  },
  {
   "cell_type": "markdown",
   "metadata": {},
   "source": [
    "Example of the croped patch."
   ]
  },
  {
   "cell_type": "code",
   "execution_count": 208,
   "metadata": {},
   "outputs": [
    {
     "data": {
      "image/png": "[encoded data removed]",
      "text/plain": [
       "<matplotlib.figure.Figure at 0x118ac0e80>"
      ]
     },
     "metadata": {},
     "output_type": "display_data"
    }
   ],
   "source": [
    "i = 98\n",
    "plt.imshow(X[0][...,1])\n",
    "plt.show()"
   ]
  },
  {
   "cell_type": "code",
   "execution_count": 119,
   "metadata": {},
   "outputs": [],
   "source": [
    "from keras.models import Sequential\n",
    "from keras.layers import Dense, Flatten, Activation\n",
    "from keras.layers import Conv2D, MaxPooling2D, Dropout\n",
    "from keras.optimizers import Adam, SGD\n",
    "from keras.callbacks import ModelCheckpoint, EarlyStopping"
   ]
  },
  {
   "cell_type": "code",
   "execution_count": 209,
   "metadata": {},
   "outputs": [
    {
     "name": "stdout",
     "output_type": "stream",
     "text": [
      "_________________________________________________________________\n",
      "Layer (type)                 Output Shape              Param #   \n",
      "=================================================================\n",
      "conv2d_9 (Conv2D)            (None, 44, 44, 50)        3050      \n",
      "_________________________________________________________________\n",
      "max_pooling2d_9 (MaxPooling2 (None, 19, 19, 50)        0         \n",
      "_________________________________________________________________\n",
      "dropout_13 (Dropout)         (None, 19, 19, 50)        0         \n",
      "_________________________________________________________________\n",
      "conv2d_10 (Conv2D)           (None, 18, 18, 50)        10050     \n",
      "_________________________________________________________________\n",
      "max_pooling2d_10 (MaxPooling (None, 6, 6, 50)          0         \n",
      "_________________________________________________________________\n",
      "dropout_14 (Dropout)         (None, 6, 6, 50)          0         \n",
      "_________________________________________________________________\n",
      "flatten_5 (Flatten)          (None, 1800)              0         \n",
      "_________________________________________________________________\n",
      "dense_9 (Dense)              (None, 1000)              1801000   \n",
      "_________________________________________________________________\n",
      "activation_9 (Activation)    (None, 1000)              0         \n",
      "_________________________________________________________________\n",
      "dropout_15 (Dropout)         (None, 1000)              0         \n",
      "_________________________________________________________________\n",
      "dense_10 (Dense)             (None, 5)                 5005      \n",
      "_________________________________________________________________\n",
      "activation_10 (Activation)   (None, 5)                 0         \n",
      "=================================================================\n",
      "Total params: 1,819,105\n",
      "Trainable params: 1,819,105\n",
      "Non-trainable params: 0\n",
      "_________________________________________________________________\n"
     ]
    }
   ],
   "source": [
    "#Building the model\n",
    "gmodel = Sequential()\n",
    "#Conv Layer 1\n",
    "gmodel.add(Conv2D(50, kernel_size=(2,2), activation='relu', input_shape=(45,45,15)))\n",
    "gmodel.add(MaxPooling2D(pool_size=(8,8), strides=(2,2)))\n",
    "gmodel.add(Dropout(0.5))\n",
    "\n",
    "#Conv Layer 2\n",
    "gmodel.add(Conv2D(50, kernel_size=(2,2), activation='relu'))\n",
    "gmodel.add(MaxPooling2D(pool_size=(8,8), strides=(2,2)))\n",
    "gmodel.add(Dropout(0.5))\n",
    "\n",
    "#Flatten the data for upcoming dense layers\n",
    "gmodel.add(Flatten())\n",
    "\n",
    "#Dense Layers\n",
    "gmodel.add(Dense(1000))\n",
    "gmodel.add(Activation('relu'))\n",
    "gmodel.add(Dropout(0.5))\n",
    "\n",
    "#Sigmoid Layer\n",
    "gmodel.add(Dense(5))\n",
    "gmodel.add(Activation('softmax'))\n",
    "\n",
    "mypotim = Adam(lr=0.001, beta_1=0.9, beta_2=0.999, epsilon=1e-08, decay=0.0)\n",
    "gmodel.compile(loss='sparse_categorical_crossentropy', optimizer=mypotim, metrics=['sparse_categorical_accuracy'])\n",
    "gmodel.summary()"
   ]
  },
  {
   "cell_type": "code",
   "execution_count": 121,
   "metadata": {},
   "outputs": [],
   "source": [
    "from sklearn.model_selection import train_test_split"
   ]
  },
  {
   "cell_type": "code",
   "execution_count": 210,
   "metadata": {},
   "outputs": [],
   "source": [
    "X_train, X_valid, y_train, y_valid = train_test_split(X, y, random_state=1, test_size=0.25)"
   ]
  },
  {
   "cell_type": "code",
   "execution_count": 211,
   "metadata": {},
   "outputs": [],
   "source": [
    "es = EarlyStopping('loss', patience=10, mode=\"min\")\n",
    "msave = ModelCheckpoint('.model_weights.hdf5', monitor='loss', save_best_only=True)\n",
    "callbacks = [es, msave]"
   ]
  },
  {
   "cell_type": "code",
   "execution_count": 216,
   "metadata": {
    "scrolled": false
   },
   "outputs": [
    {
     "name": "stdout",
     "output_type": "stream",
     "text": [
      "Train on 3750 samples, validate on 1250 samples\n",
      "Epoch 1/100\n",
      "3750/3750 [==============================] - 19s 5ms/step - loss: 0.1142 - sparse_categorical_accuracy: 0.9643 - val_loss: 0.4611 - val_sparse_categorical_accuracy: 0.9024\n",
      "Epoch 2/100\n",
      "3750/3750 [==============================] - 18s 5ms/step - loss: 0.1234 - sparse_categorical_accuracy: 0.9597 - val_loss: 0.4857 - val_sparse_categorical_accuracy: 0.8896\n",
      "Epoch 3/100\n",
      "3750/3750 [==============================] - 19s 5ms/step - loss: 0.1245 - sparse_categorical_accuracy: 0.9552 - val_loss: 0.5454 - val_sparse_categorical_accuracy: 0.8768\n",
      "Epoch 4/100\n",
      "3750/3750 [==============================] - 18s 5ms/step - loss: 0.1342 - sparse_categorical_accuracy: 0.9509 - val_loss: 0.5696 - val_sparse_categorical_accuracy: 0.8672\n",
      "Epoch 5/100\n",
      "3750/3750 [==============================] - 18s 5ms/step - loss: 0.1213 - sparse_categorical_accuracy: 0.9560 - val_loss: 0.5077 - val_sparse_categorical_accuracy: 0.8808\n",
      "Epoch 6/100\n",
      "3750/3750 [==============================] - 19s 5ms/step - loss: 0.1237 - sparse_categorical_accuracy: 0.9587 - val_loss: 0.5163 - val_sparse_categorical_accuracy: 0.8832\n",
      "Epoch 7/100\n",
      "3750/3750 [==============================] - 18s 5ms/step - loss: 0.1194 - sparse_categorical_accuracy: 0.9589 - val_loss: 0.5344 - val_sparse_categorical_accuracy: 0.8816\n",
      "Epoch 8/100\n",
      "3750/3750 [==============================] - 19s 5ms/step - loss: 0.1103 - sparse_categorical_accuracy: 0.9605 - val_loss: 0.4630 - val_sparse_categorical_accuracy: 0.8888\n",
      "Epoch 9/100\n",
      "3750/3750 [==============================] - 19s 5ms/step - loss: 0.1311 - sparse_categorical_accuracy: 0.9531 - val_loss: 0.5507 - val_sparse_categorical_accuracy: 0.8720\n",
      "Epoch 10/100\n",
      "3750/3750 [==============================] - 18s 5ms/step - loss: 0.1046 - sparse_categorical_accuracy: 0.9653 - val_loss: 0.5356 - val_sparse_categorical_accuracy: 0.8776\n",
      "Epoch 11/100\n",
      "3750/3750 [==============================] - 18s 5ms/step - loss: 0.1063 - sparse_categorical_accuracy: 0.9640 - val_loss: 0.5099 - val_sparse_categorical_accuracy: 0.8672\n",
      "Epoch 12/100\n",
      "3750/3750 [==============================] - 18s 5ms/step - loss: 0.1206 - sparse_categorical_accuracy: 0.9571 - val_loss: 0.4915 - val_sparse_categorical_accuracy: 0.9000\n",
      "Epoch 13/100\n",
      "3750/3750 [==============================] - 18s 5ms/step - loss: 0.1053 - sparse_categorical_accuracy: 0.9643 - val_loss: 0.5325 - val_sparse_categorical_accuracy: 0.8704\n",
      "Epoch 14/100\n",
      "3750/3750 [==============================] - 19s 5ms/step - loss: 0.1168 - sparse_categorical_accuracy: 0.9603 - val_loss: 0.5229 - val_sparse_categorical_accuracy: 0.8904\n",
      "Epoch 15/100\n",
      "3750/3750 [==============================] - 20s 5ms/step - loss: 0.1158 - sparse_categorical_accuracy: 0.9584 - val_loss: 0.4567 - val_sparse_categorical_accuracy: 0.8896\n",
      "Epoch 16/100\n",
      "3750/3750 [==============================] - 19s 5ms/step - loss: 0.0956 - sparse_categorical_accuracy: 0.9680 - val_loss: 0.4889 - val_sparse_categorical_accuracy: 0.8784\n",
      "Epoch 17/100\n",
      "3750/3750 [==============================] - 18s 5ms/step - loss: 0.0971 - sparse_categorical_accuracy: 0.9664 - val_loss: 0.6087 - val_sparse_categorical_accuracy: 0.8176\n",
      "Epoch 18/100\n",
      "3750/3750 [==============================] - 19s 5ms/step - loss: 0.1023 - sparse_categorical_accuracy: 0.9656 - val_loss: 0.4503 - val_sparse_categorical_accuracy: 0.8968\n",
      "Epoch 19/100\n",
      "3750/3750 [==============================] - 21s 6ms/step - loss: 0.0999 - sparse_categorical_accuracy: 0.9635 - val_loss: 0.4577 - val_sparse_categorical_accuracy: 0.8880\n",
      "Epoch 20/100\n",
      "3750/3750 [==============================] - 18s 5ms/step - loss: 0.0962 - sparse_categorical_accuracy: 0.9680 - val_loss: 0.4378 - val_sparse_categorical_accuracy: 0.8920\n",
      "Epoch 21/100\n",
      "3750/3750 [==============================] - 19s 5ms/step - loss: 0.1125 - sparse_categorical_accuracy: 0.9592 - val_loss: 0.4998 - val_sparse_categorical_accuracy: 0.8864\n",
      "Epoch 22/100\n",
      "3750/3750 [==============================] - 18s 5ms/step - loss: 0.1056 - sparse_categorical_accuracy: 0.9616 - val_loss: 0.4436 - val_sparse_categorical_accuracy: 0.8968\n",
      "Epoch 23/100\n",
      "3750/3750 [==============================] - 18s 5ms/step - loss: 0.0868 - sparse_categorical_accuracy: 0.9688 - val_loss: 0.4571 - val_sparse_categorical_accuracy: 0.8824\n",
      "Epoch 24/100\n",
      "3750/3750 [==============================] - 18s 5ms/step - loss: 0.1017 - sparse_categorical_accuracy: 0.9691 - val_loss: 0.3946 - val_sparse_categorical_accuracy: 0.8864\n",
      "Epoch 25/100\n",
      "3750/3750 [==============================] - 18s 5ms/step - loss: 0.0872 - sparse_categorical_accuracy: 0.9701 - val_loss: 0.5013 - val_sparse_categorical_accuracy: 0.8544\n",
      "Epoch 26/100\n",
      "3750/3750 [==============================] - 18s 5ms/step - loss: 0.0899 - sparse_categorical_accuracy: 0.9693 - val_loss: 0.4991 - val_sparse_categorical_accuracy: 0.8664\n",
      "Epoch 27/100\n",
      "3750/3750 [==============================] - 19s 5ms/step - loss: 0.1011 - sparse_categorical_accuracy: 0.9621 - val_loss: 0.4015 - val_sparse_categorical_accuracy: 0.8880\n",
      "Epoch 28/100\n",
      "3750/3750 [==============================] - 19s 5ms/step - loss: 0.0930 - sparse_categorical_accuracy: 0.9685 - val_loss: 0.4698 - val_sparse_categorical_accuracy: 0.8696\n",
      "Epoch 29/100\n",
      "3750/3750 [==============================] - 19s 5ms/step - loss: 0.0942 - sparse_categorical_accuracy: 0.9664 - val_loss: 0.4543 - val_sparse_categorical_accuracy: 0.8744\n",
      "Epoch 30/100\n",
      "3750/3750 [==============================] - 20s 5ms/step - loss: 0.0862 - sparse_categorical_accuracy: 0.9691 - val_loss: 0.3814 - val_sparse_categorical_accuracy: 0.9064\n",
      "Epoch 31/100\n",
      "3750/3750 [==============================] - 19s 5ms/step - loss: 0.0935 - sparse_categorical_accuracy: 0.9653 - val_loss: 0.4358 - val_sparse_categorical_accuracy: 0.8856\n",
      "Epoch 32/100\n",
      "3750/3750 [==============================] - 18s 5ms/step - loss: 0.0910 - sparse_categorical_accuracy: 0.9707 - val_loss: 0.4432 - val_sparse_categorical_accuracy: 0.8896\n",
      "Epoch 33/100\n",
      "3750/3750 [==============================] - 19s 5ms/step - loss: 0.0956 - sparse_categorical_accuracy: 0.9661 - val_loss: 0.4391 - val_sparse_categorical_accuracy: 0.8896\n",
      "Epoch 34/100\n",
      "3750/3750 [==============================] - 18s 5ms/step - loss: 0.0858 - sparse_categorical_accuracy: 0.9699 - val_loss: 0.4441 - val_sparse_categorical_accuracy: 0.8840\n",
      "Epoch 35/100\n",
      "3750/3750 [==============================] - 18s 5ms/step - loss: 0.0860 - sparse_categorical_accuracy: 0.9696 - val_loss: 0.4012 - val_sparse_categorical_accuracy: 0.8984\n",
      "Epoch 36/100\n",
      "3750/3750 [==============================] - 18s 5ms/step - loss: 0.0850 - sparse_categorical_accuracy: 0.9680 - val_loss: 0.4314 - val_sparse_categorical_accuracy: 0.8960\n",
      "Epoch 37/100\n",
      "3750/3750 [==============================] - 18s 5ms/step - loss: 0.0914 - sparse_categorical_accuracy: 0.9699 - val_loss: 0.4740 - val_sparse_categorical_accuracy: 0.8736\n",
      "Epoch 38/100\n",
      "3750/3750 [==============================] - 18s 5ms/step - loss: 0.0835 - sparse_categorical_accuracy: 0.9715 - val_loss: 0.4420 - val_sparse_categorical_accuracy: 0.8696\n",
      "Epoch 39/100\n",
      "3750/3750 [==============================] - 18s 5ms/step - loss: 0.0957 - sparse_categorical_accuracy: 0.9661 - val_loss: 0.3885 - val_sparse_categorical_accuracy: 0.8920\n",
      "Epoch 40/100\n",
      "3750/3750 [==============================] - 19s 5ms/step - loss: 0.0789 - sparse_categorical_accuracy: 0.9723 - val_loss: 0.4819 - val_sparse_categorical_accuracy: 0.8696\n",
      "Epoch 41/100\n",
      "3750/3750 [==============================] - 19s 5ms/step - loss: 0.0808 - sparse_categorical_accuracy: 0.9680 - val_loss: 0.4284 - val_sparse_categorical_accuracy: 0.8832\n",
      "Epoch 42/100\n",
      "3750/3750 [==============================] - 19s 5ms/step - loss: 0.0744 - sparse_categorical_accuracy: 0.9731 - val_loss: 0.4042 - val_sparse_categorical_accuracy: 0.8904\n",
      "Epoch 43/100\n",
      "3750/3750 [==============================] - 18s 5ms/step - loss: 0.0798 - sparse_categorical_accuracy: 0.9715 - val_loss: 0.4211 - val_sparse_categorical_accuracy: 0.8864\n",
      "Epoch 44/100\n",
      "3750/3750 [==============================] - 19s 5ms/step - loss: 0.0699 - sparse_categorical_accuracy: 0.9744 - val_loss: 0.3656 - val_sparse_categorical_accuracy: 0.8984\n",
      "Epoch 45/100\n",
      "3750/3750 [==============================] - 18s 5ms/step - loss: 0.0708 - sparse_categorical_accuracy: 0.9731 - val_loss: 0.4334 - val_sparse_categorical_accuracy: 0.8896\n",
      "Epoch 46/100\n",
      "3750/3750 [==============================] - 19s 5ms/step - loss: 0.0877 - sparse_categorical_accuracy: 0.9691 - val_loss: 0.4213 - val_sparse_categorical_accuracy: 0.8920\n",
      "Epoch 47/100\n",
      "3750/3750 [==============================] - 20s 5ms/step - loss: 0.0693 - sparse_categorical_accuracy: 0.9765 - val_loss: 0.4111 - val_sparse_categorical_accuracy: 0.8816\n",
      "Epoch 48/100\n",
      "3750/3750 [==============================] - 18s 5ms/step - loss: 0.0806 - sparse_categorical_accuracy: 0.9733 - val_loss: 0.3834 - val_sparse_categorical_accuracy: 0.8960\n",
      "Epoch 49/100\n",
      "3750/3750 [==============================] - 18s 5ms/step - loss: 0.0759 - sparse_categorical_accuracy: 0.9744 - val_loss: 0.4424 - val_sparse_categorical_accuracy: 0.8648\n",
      "Epoch 50/100\n",
      "3750/3750 [==============================] - 18s 5ms/step - loss: 0.0781 - sparse_categorical_accuracy: 0.9701 - val_loss: 0.3757 - val_sparse_categorical_accuracy: 0.8896\n",
      "Epoch 51/100\n",
      "3750/3750 [==============================] - 18s 5ms/step - loss: 0.0790 - sparse_categorical_accuracy: 0.9720 - val_loss: 0.3859 - val_sparse_categorical_accuracy: 0.8824\n",
      "Epoch 52/100\n",
      "3750/3750 [==============================] - 18s 5ms/step - loss: 0.0798 - sparse_categorical_accuracy: 0.9707 - val_loss: 0.4062 - val_sparse_categorical_accuracy: 0.8984\n",
      "Epoch 53/100\n",
      "3750/3750 [==============================] - 18s 5ms/step - loss: 0.0737 - sparse_categorical_accuracy: 0.9752 - val_loss: 0.4238 - val_sparse_categorical_accuracy: 0.8888\n",
      "Epoch 54/100\n",
      "3750/3750 [==============================] - 18s 5ms/step - loss: 0.0778 - sparse_categorical_accuracy: 0.9757 - val_loss: 0.4766 - val_sparse_categorical_accuracy: 0.8816\n",
      "Epoch 55/100\n",
      "3750/3750 [==============================] - 18s 5ms/step - loss: 0.0756 - sparse_categorical_accuracy: 0.9752 - val_loss: 0.3649 - val_sparse_categorical_accuracy: 0.9080\n",
      "Epoch 56/100\n",
      "3750/3750 [==============================] - 18s 5ms/step - loss: 0.0689 - sparse_categorical_accuracy: 0.9744 - val_loss: 0.3975 - val_sparse_categorical_accuracy: 0.8840\n",
      "Epoch 57/100\n",
      "3750/3750 [==============================] - 18s 5ms/step - loss: 0.0795 - sparse_categorical_accuracy: 0.9717 - val_loss: 0.4150 - val_sparse_categorical_accuracy: 0.8864\n",
      "Epoch 58/100\n",
      "3750/3750 [==============================] - 18s 5ms/step - loss: 0.0737 - sparse_categorical_accuracy: 0.9752 - val_loss: 0.4281 - val_sparse_categorical_accuracy: 0.8584\n",
      "Epoch 59/100\n",
      "3750/3750 [==============================] - 18s 5ms/step - loss: 0.0748 - sparse_categorical_accuracy: 0.9747 - val_loss: 0.4439 - val_sparse_categorical_accuracy: 0.8776\n",
      "Epoch 60/100\n",
      "3750/3750 [==============================] - 18s 5ms/step - loss: 0.0802 - sparse_categorical_accuracy: 0.9685 - val_loss: 0.4085 - val_sparse_categorical_accuracy: 0.8848\n",
      "Epoch 61/100\n",
      "3750/3750 [==============================] - 19s 5ms/step - loss: 0.0739 - sparse_categorical_accuracy: 0.9749 - val_loss: 0.3875 - val_sparse_categorical_accuracy: 0.8904\n",
      "Epoch 62/100\n",
      "3750/3750 [==============================] - 18s 5ms/step - loss: 0.0682 - sparse_categorical_accuracy: 0.9773 - val_loss: 0.4093 - val_sparse_categorical_accuracy: 0.8776\n",
      "Epoch 63/100\n",
      "3750/3750 [==============================] - 18s 5ms/step - loss: 0.0614 - sparse_categorical_accuracy: 0.9800 - val_loss: 0.3741 - val_sparse_categorical_accuracy: 0.8944\n",
      "Epoch 64/100\n",
      "3750/3750 [==============================] - 18s 5ms/step - loss: 0.0631 - sparse_categorical_accuracy: 0.9760 - val_loss: 0.3639 - val_sparse_categorical_accuracy: 0.8936\n",
      "Epoch 65/100\n",
      "3750/3750 [==============================] - 18s 5ms/step - loss: 0.0649 - sparse_categorical_accuracy: 0.9768 - val_loss: 0.4398 - val_sparse_categorical_accuracy: 0.8672\n",
      "Epoch 66/100\n",
      "3750/3750 [==============================] - 18s 5ms/step - loss: 0.0745 - sparse_categorical_accuracy: 0.9712 - val_loss: 0.4220 - val_sparse_categorical_accuracy: 0.8944\n",
      "Epoch 67/100\n",
      "3750/3750 [==============================] - 18s 5ms/step - loss: 0.0625 - sparse_categorical_accuracy: 0.9749 - val_loss: 0.3575 - val_sparse_categorical_accuracy: 0.9024\n",
      "Epoch 68/100\n",
      "3750/3750 [==============================] - 18s 5ms/step - loss: 0.0673 - sparse_categorical_accuracy: 0.9760 - val_loss: 0.3529 - val_sparse_categorical_accuracy: 0.9008\n",
      "Epoch 69/100\n",
      "3750/3750 [==============================] - 18s 5ms/step - loss: 0.0865 - sparse_categorical_accuracy: 0.9728 - val_loss: 0.4426 - val_sparse_categorical_accuracy: 0.8736\n",
      "Epoch 70/100\n",
      "3750/3750 [==============================] - 18s 5ms/step - loss: 0.0690 - sparse_categorical_accuracy: 0.9768 - val_loss: 0.4223 - val_sparse_categorical_accuracy: 0.8768\n",
      "Epoch 71/100\n",
      "3750/3750 [==============================] - 18s 5ms/step - loss: 0.0512 - sparse_categorical_accuracy: 0.9829 - val_loss: 0.3775 - val_sparse_categorical_accuracy: 0.8880\n",
      "Epoch 72/100\n",
      "3750/3750 [==============================] - 18s 5ms/step - loss: 0.0609 - sparse_categorical_accuracy: 0.9781 - val_loss: 0.4100 - val_sparse_categorical_accuracy: 0.8872\n",
      "Epoch 73/100\n",
      "3750/3750 [==============================] - 18s 5ms/step - loss: 0.0589 - sparse_categorical_accuracy: 0.9795 - val_loss: 0.3514 - val_sparse_categorical_accuracy: 0.9016\n",
      "Epoch 74/100\n",
      "3750/3750 [==============================] - 19s 5ms/step - loss: 0.0670 - sparse_categorical_accuracy: 0.9787 - val_loss: 0.3785 - val_sparse_categorical_accuracy: 0.8888\n",
      "Epoch 75/100\n",
      "3750/3750 [==============================] - 18s 5ms/step - loss: 0.0546 - sparse_categorical_accuracy: 0.9813 - val_loss: 0.3927 - val_sparse_categorical_accuracy: 0.8888\n",
      "Epoch 76/100\n",
      "3750/3750 [==============================] - 18s 5ms/step - loss: 0.0538 - sparse_categorical_accuracy: 0.9829 - val_loss: 0.3449 - val_sparse_categorical_accuracy: 0.9000\n",
      "Epoch 77/100\n",
      "3750/3750 [==============================] - 18s 5ms/step - loss: 0.0630 - sparse_categorical_accuracy: 0.9789 - val_loss: 0.3338 - val_sparse_categorical_accuracy: 0.9096\n",
      "Epoch 78/100\n",
      "3750/3750 [==============================] - 18s 5ms/step - loss: 0.0699 - sparse_categorical_accuracy: 0.9776 - val_loss: 0.3820 - val_sparse_categorical_accuracy: 0.8872\n",
      "Epoch 79/100\n",
      "3750/3750 [==============================] - 18s 5ms/step - loss: 0.0564 - sparse_categorical_accuracy: 0.9781 - val_loss: 0.3806 - val_sparse_categorical_accuracy: 0.8928\n",
      "Epoch 80/100\n",
      "3750/3750 [==============================] - 18s 5ms/step - loss: 0.0439 - sparse_categorical_accuracy: 0.9840 - val_loss: 0.3561 - val_sparse_categorical_accuracy: 0.8920\n",
      "Epoch 81/100\n",
      "3750/3750 [==============================] - 18s 5ms/step - loss: 0.0635 - sparse_categorical_accuracy: 0.9779 - val_loss: 0.4138 - val_sparse_categorical_accuracy: 0.8776\n",
      "Epoch 82/100\n",
      "3750/3750 [==============================] - 18s 5ms/step - loss: 0.0663 - sparse_categorical_accuracy: 0.9797 - val_loss: 0.3477 - val_sparse_categorical_accuracy: 0.8968\n",
      "Epoch 83/100\n",
      "3750/3750 [==============================] - 18s 5ms/step - loss: 0.0578 - sparse_categorical_accuracy: 0.9805 - val_loss: 0.3996 - val_sparse_categorical_accuracy: 0.8720\n",
      "Epoch 84/100\n",
      "3750/3750 [==============================] - 18s 5ms/step - loss: 0.0676 - sparse_categorical_accuracy: 0.9781 - val_loss: 0.3445 - val_sparse_categorical_accuracy: 0.9080\n",
      "Epoch 85/100\n",
      "3750/3750 [==============================] - 18s 5ms/step - loss: 0.0730 - sparse_categorical_accuracy: 0.9725 - val_loss: 0.3527 - val_sparse_categorical_accuracy: 0.9048\n",
      "Epoch 86/100\n",
      "3750/3750 [==============================] - 18s 5ms/step - loss: 0.0596 - sparse_categorical_accuracy: 0.9781 - val_loss: 0.3598 - val_sparse_categorical_accuracy: 0.8976\n",
      "Epoch 87/100\n",
      "3750/3750 [==============================] - 18s 5ms/step - loss: 0.0671 - sparse_categorical_accuracy: 0.9755 - val_loss: 0.3809 - val_sparse_categorical_accuracy: 0.8936\n",
      "Epoch 88/100\n",
      "3750/3750 [==============================] - 19s 5ms/step - loss: 0.0584 - sparse_categorical_accuracy: 0.9803 - val_loss: 0.3608 - val_sparse_categorical_accuracy: 0.9056\n",
      "Epoch 89/100\n",
      "3750/3750 [==============================] - 19s 5ms/step - loss: 0.0511 - sparse_categorical_accuracy: 0.9805 - val_loss: 0.3300 - val_sparse_categorical_accuracy: 0.9072\n",
      "Epoch 90/100\n",
      "3750/3750 [==============================] - 18s 5ms/step - loss: 0.0413 - sparse_categorical_accuracy: 0.9851 - val_loss: 0.3563 - val_sparse_categorical_accuracy: 0.8960\n",
      "Epoch 91/100\n",
      "3750/3750 [==============================] - 18s 5ms/step - loss: 0.0524 - sparse_categorical_accuracy: 0.9808 - val_loss: 0.3481 - val_sparse_categorical_accuracy: 0.9176\n",
      "Epoch 92/100\n",
      "3750/3750 [==============================] - 18s 5ms/step - loss: 0.0663 - sparse_categorical_accuracy: 0.9781 - val_loss: 0.3455 - val_sparse_categorical_accuracy: 0.8960\n",
      "Epoch 93/100\n",
      "3750/3750 [==============================] - 18s 5ms/step - loss: 0.0578 - sparse_categorical_accuracy: 0.9800 - val_loss: 0.3532 - val_sparse_categorical_accuracy: 0.9120\n",
      "Epoch 94/100\n",
      "3750/3750 [==============================] - 18s 5ms/step - loss: 0.0471 - sparse_categorical_accuracy: 0.9821 - val_loss: 0.3611 - val_sparse_categorical_accuracy: 0.9056\n",
      "Epoch 95/100\n",
      "3750/3750 [==============================] - 18s 5ms/step - loss: 0.0487 - sparse_categorical_accuracy: 0.9840 - val_loss: 0.4093 - val_sparse_categorical_accuracy: 0.8896\n",
      "Epoch 96/100\n",
      "3750/3750 [==============================] - 18s 5ms/step - loss: 0.0515 - sparse_categorical_accuracy: 0.9819 - val_loss: 0.3865 - val_sparse_categorical_accuracy: 0.9000\n",
      "Epoch 97/100\n",
      "3750/3750 [==============================] - 18s 5ms/step - loss: 0.0639 - sparse_categorical_accuracy: 0.9768 - val_loss: 0.3352 - val_sparse_categorical_accuracy: 0.9104\n",
      "Epoch 98/100\n",
      "3750/3750 [==============================] - 18s 5ms/step - loss: 0.0560 - sparse_categorical_accuracy: 0.9819 - val_loss: 0.3479 - val_sparse_categorical_accuracy: 0.9032\n",
      "Epoch 99/100\n",
      "3750/3750 [==============================] - 20s 5ms/step - loss: 0.0473 - sparse_categorical_accuracy: 0.9840 - val_loss: 0.3762 - val_sparse_categorical_accuracy: 0.8976\n",
      "Epoch 100/100\n",
      "3750/3750 [==============================] - 18s 5ms/step - loss: 0.0488 - sparse_categorical_accuracy: 0.9845 - val_loss: 0.3750 - val_sparse_categorical_accuracy: 0.8808\n"
     ]
    }
   ],
   "source": [
    "history = gmodel.fit(X_train, y_train, batch_size=128, epochs=100, verbose=1,\n",
    "                     validation_data=(X_valid, y_valid), callbacks=callbacks)"
   ]
  },
  {
   "cell_type": "code",
   "execution_count": 219,
   "metadata": {},
   "outputs": [
    {
     "data": {
      "image/png": "[encoded data removed]",
      "text/plain": [
       "<matplotlib.figure.Figure at 0x138055e80>"
      ]
     },
     "metadata": {},
     "output_type": "display_data"
    }
   ],
   "source": [
    "plt.figure(figsize=(18,5))\n",
    "plt.subplot(121)\n",
    "plt.plot(np.concatenate([history_1.history['loss'], history_2.history['loss']]), label='train')\n",
    "plt.plot(np.concatenate([history_1.history['val_loss'], history_2.history['val_loss']]), label='valid')\n",
    "plt.xlabel('epoch')\n",
    "plt.ylabel('loss')\n",
    "plt.legend()\n",
    "plt.subplot(122)\n",
    "plt.plot(np.concatenate([history_1.history['sparse_categorical_accuracy'], history_2.history['sparse_categorical_accuracy']]),\n",
    "         label='train')\n",
    "plt.plot(np.concatenate([history_1.history['val_sparse_categorical_accuracy'], history_2.history['val_sparse_categorical_accuracy']]),\n",
    "         label='valid')\n",
    "plt.xlabel('epoch')\n",
    "plt.ylabel('accuracy')\n",
    "plt.legend()\n",
    "plt.show()"
   ]
  },
  {
   "cell_type": "code",
   "execution_count": 215,
   "metadata": {},
   "outputs": [],
   "source": [
    "history_1 = history"
   ]
  },
  {
   "cell_type": "code",
   "execution_count": 218,
   "metadata": {},
   "outputs": [],
   "source": [
    "history_2 = history"
   ]
  },
  {
   "cell_type": "markdown",
   "metadata": {},
   "source": [
    "# Make predictions"
   ]
  },
  {
   "cell_type": "code",
   "execution_count": 153,
   "metadata": {},
   "outputs": [],
   "source": [
    "from sklearn.metrics import accuracy_score, confusion_matrix\n",
    "import itertools"
   ]
  },
  {
   "cell_type": "code",
   "execution_count": 154,
   "metadata": {},
   "outputs": [],
   "source": [
    "def plot_confusion_matrix(cm, classes,\n",
    "                          normalize=False,\n",
    "                          title='Confusion matrix',\n",
    "                          cmap=plt.cm.Blues):\n",
    "    if normalize:\n",
    "        cm = cm.astype('float') / cm.sum(axis=1)[:, np.newaxis]\n",
    "\n",
    "    plt.imshow(cm, interpolation='nearest', cmap=cmap)\n",
    "    plt.title(title)\n",
    "    plt.colorbar()\n",
    "    tick_marks = np.arange(len(classes))\n",
    "    plt.xticks(tick_marks, classes, rotation=45)\n",
    "    plt.yticks(tick_marks, classes)\n",
    "\n",
    "    fmt = '.2f' if normalize else 'd'\n",
    "    thresh = cm.max() / 2.\n",
    "    for i, j in itertools.product(range(cm.shape[0]), range(cm.shape[1])):\n",
    "        plt.text(j, i, format(cm[i, j], fmt),\n",
    "                 horizontalalignment=\"center\",\n",
    "                 color=\"white\" if cm[i, j] > thresh else \"black\")\n",
    "\n",
    "    plt.tight_layout()\n",
    "    plt.ylabel('True label')\n",
    "    plt.xlabel('Predicted label')"
   ]
  },
  {
   "cell_type": "code",
   "execution_count": 220,
   "metadata": {},
   "outputs": [],
   "source": [
    "crops = np.array(Image.open('/Users/vasilii/Dropbox/minnesota/crops_map.tif'))\n",
    "band_01 = np.array(Image.open('/Users/vasilii/Dropbox/minnesota/band_01.tif'))\n",
    "band_02 = np.array(Image.open('/Users/vasilii/Dropbox/minnesota/band_02.tif'))\n",
    "band_03 = np.array(Image.open('/Users/vasilii/Dropbox/minnesota/band_03.tif'))\n",
    "band_04 = np.array(Image.open('/Users/vasilii/Dropbox/minnesota/band_04.tif'))\n",
    "band_05 = np.array(Image.open('/Users/vasilii/Dropbox/minnesota/band_05.tif'))\n",
    "band_06 = np.array(Image.open('/Users/vasilii/Dropbox/minnesota/band_06.tif'))\n",
    "band_07 = np.array(Image.open('/Users/vasilii/Dropbox/minnesota/band_07.tif'))\n",
    "band_08 = np.array(Image.open('/Users/vasilii/Dropbox/minnesota/band_08.tif'))\n",
    "band_8A = np.array(Image.open('/Users/vasilii/Dropbox/minnesota/band_8A.tif'))\n",
    "band_09 = np.array(Image.open('/Users/vasilii/Dropbox/minnesota/band_09.tif'))\n",
    "band_10 = np.array(Image.open('/Users/vasilii/Dropbox/minnesota/band_10.tif'))\n",
    "band_11 = np.array(Image.open('/Users/vasilii/Dropbox/minnesota/band_11.tif'))\n",
    "band_12 = np.array(Image.open('/Users/vasilii/Dropbox/minnesota/band_12.tif'))"
   ]
  },
  {
   "cell_type": "code",
   "execution_count": 221,
   "metadata": {},
   "outputs": [],
   "source": [
    "band_01 = equalize_hist(band_01)\n",
    "band_02 = equalize_hist(band_02)\n",
    "band_03 = equalize_hist(band_03)\n",
    "band_04 = equalize_hist(band_04)\n",
    "band_05 = equalize_hist(band_05)\n",
    "band_06 = equalize_hist(band_06)\n",
    "band_07 = equalize_hist(band_07)\n",
    "band_08 = equalize_hist(band_08)\n",
    "band_8A = equalize_hist(band_8A)\n",
    "band_09 = equalize_hist(band_09)\n",
    "band_10 = equalize_hist(band_10)\n",
    "band_11 = equalize_hist(band_11)\n",
    "band_12 = equalize_hist(band_12)"
   ]
  },
  {
   "cell_type": "code",
   "execution_count": 222,
   "metadata": {},
   "outputs": [],
   "source": [
    "test_area = np.zeros_like(crops[:1000,-1000:])\n",
    "test_area[np.where(crops[:1000,-1000:]==1)] = 1\n",
    "test_area[np.where(crops[:1000,-1000:]==23)] = 2\n",
    "test_area[np.where(crops[:1000,-1000:]==5)] = 3\n",
    "test_area[np.where(crops[:1000,-1000:]==42)] = 4\n",
    "test_area[np.where(crops[:1000,-1000:]==41)] = 5\n",
    "\n",
    "band_01 = band_01[:1000,-1000:]\n",
    "band_02 = band_02[:1000,-1000:]\n",
    "band_03 = band_03[:1000,-1000:]\n",
    "band_04 = band_04[:1000,-1000:]\n",
    "band_05 = band_05[:1000,-1000:]\n",
    "band_06 = band_06[:1000,-1000:]\n",
    "band_07 = band_07[:1000,-1000:]\n",
    "band_08 = band_08[:1000,-1000:]\n",
    "band_8A = band_8A[:1000,-1000:]\n",
    "band_09 = band_09[:1000,-1000:]\n",
    "band_10 = band_10[:1000,-1000:]\n",
    "band_11 = band_11[:1000,-1000:]\n",
    "band_12 = band_12[:1000,-1000:]\n",
    "\n",
    "ndvi = (band_08 - band_04) / (band_08 + band_04)\n",
    "lswi = (band_08 - band_11) / (band_08 + band_11)"
   ]
  },
  {
   "cell_type": "code",
   "execution_count": 223,
   "metadata": {},
   "outputs": [
    {
     "data": {
      "text/plain": [
       "<matplotlib.image.AxesImage at 0x10fcf92e8>"
      ]
     },
     "execution_count": 223,
     "metadata": {},
     "output_type": "execute_result"
    },
    {
     "data": {
      "image/png": "[encoded data removed]",
      "text/plain": [
       "<matplotlib.figure.Figure at 0x138050908>"
      ]
     },
     "metadata": {},
     "output_type": "display_data"
    }
   ],
   "source": [
    "plt.imshow(test_area)"
   ]
  },
  {
   "cell_type": "code",
   "execution_count": 224,
   "metadata": {},
   "outputs": [
    {
     "data": {
      "text/plain": [
       "(1000, 1000)"
      ]
     },
     "execution_count": 224,
     "metadata": {},
     "output_type": "execute_result"
    }
   ],
   "source": [
    "test_area.shape"
   ]
  },
  {
   "cell_type": "code",
   "execution_count": 225,
   "metadata": {},
   "outputs": [],
   "source": [
    "band_01 = extend(band_01, 100, boundary='mirror')\n",
    "band_02 = extend(band_02, 100, boundary='mirror')\n",
    "band_03 = extend(band_03, 100, boundary='mirror')\n",
    "band_04 = extend(band_04, 100, boundary='mirror')\n",
    "band_05 = extend(band_05, 100, boundary='mirror')\n",
    "band_06 = extend(band_06, 100, boundary='mirror')\n",
    "band_07 = extend(band_07, 100, boundary='mirror')\n",
    "band_08 = extend(band_08, 100, boundary='mirror')\n",
    "band_8A = extend(band_8A, 100, boundary='mirror')\n",
    "band_09 = extend(band_09, 100, boundary='mirror')\n",
    "band_10 = extend(band_10, 100, boundary='mirror')\n",
    "band_11 = extend(band_11, 100, boundary='mirror')\n",
    "band_12 = extend(band_12, 100, boundary='mirror')\n",
    "ndvi = extend(ndvi, 100, boundary='mirror')\n",
    "lswi = extend(lswi, 100, boundary='mirror')"
   ]
  },
  {
   "cell_type": "code",
   "execution_count": 226,
   "metadata": {},
   "outputs": [],
   "source": [
    "s = 22"
   ]
  },
  {
   "cell_type": "code",
   "execution_count": 227,
   "metadata": {},
   "outputs": [
    {
     "name": "stderr",
     "output_type": "stream",
     "text": [
      "100%|██████████| 1000/1000 [27:34<00:00,  1.65s/it]\n"
     ]
    }
   ],
   "source": [
    "preds = []\n",
    "for i in tqdm(range(100,1100)):# test_area.shape[0]-100)):\n",
    "    X_test = np.array([np.dstack([band_01[i-s:i+s+1,j-s:j+s+1], \n",
    "                               band_02[i-s:i+s+1,j-s:j+s+1], band_03[i-s:i+s+1,j-s:j+s+1],\n",
    "                               band_04[i-s:i+s+1,j-s:j+s+1], band_05[i-s:i+s+1,j-s:j+s+1], band_06[i-s:i+s+1,j-s:j+s+1],\n",
    "                               band_07[i-s:i+s+1,j-s:j+s+1], band_08[i-s:i+s+1,j-s:j+s+1], band_8A[i-s:i+s+1,j-s:j+s+1],\n",
    "                               band_09[i-s:i+s+1,j-s:j+s+1], band_10[i-s:i+s+1,j-s:j+s+1], band_11[i-s:i+s+1,j-s:j+s+1],\n",
    "                               band_12[i-s:i+s+1,j-s:j+s+1],\n",
    "                                  ndvi[i-s:i+s+1,j-s:j+s+1], lswi[i-s:i+s+1,j-s:j+s+1]]) for j in range(100,1100)])\n",
    "    preds.append(gmodel.predict_classes(X_test))"
   ]
  },
  {
   "cell_type": "code",
   "execution_count": 228,
   "metadata": {},
   "outputs": [],
   "source": [
    "preds = np.array(preds) + 1"
   ]
  },
  {
   "cell_type": "code",
   "execution_count": 229,
   "metadata": {},
   "outputs": [
    {
     "data": {
      "text/plain": [
       "(1000, 1000)"
      ]
     },
     "execution_count": 229,
     "metadata": {},
     "output_type": "execute_result"
    }
   ],
   "source": [
    "preds.shape"
   ]
  },
  {
   "cell_type": "code",
   "execution_count": 230,
   "metadata": {},
   "outputs": [
    {
     "data": {
      "text/plain": [
       "(1000, 1000)"
      ]
     },
     "execution_count": 230,
     "metadata": {},
     "output_type": "execute_result"
    }
   ],
   "source": [
    "test_area.shape"
   ]
  },
  {
   "cell_type": "code",
   "execution_count": 231,
   "metadata": {},
   "outputs": [],
   "source": [
    "preds[np.where(test_area==0)] = 0"
   ]
  },
  {
   "cell_type": "code",
   "execution_count": 241,
   "metadata": {},
   "outputs": [
    {
     "data": {
      "image/png": "[encoded data removed]",
      "text/plain": [
       "<matplotlib.figure.Figure at 0x10fd8f240>"
      ]
     },
     "metadata": {},
     "output_type": "display_data"
    }
   ],
   "source": [
    "cmap = {0:[0.5,0.1,1.0,1],1:[0.1,0.1,1.0,1],2:[0.1,0.1,0.5,1],3:[1.0,0.5,0.1,1],4:[0.5,1.0,0.1,1],5:[1.0,1.0,0.5,1]}\n",
    "labels = {0:'other',1:'corn',2:'wheat',3:'soybeans',4:'drybeans',5:'sugarbeets'}\n",
    "plt.xticks([])\n",
    "plt.yticks([])\n",
    "arrayShow = np.array([[cmap[i] for i in j] for j in preds]) \n",
    "plt.imshow(arrayShow)\n",
    "plt.title(\"CNN,test score: \"+str(round(accuracy_score(test_area[np.where(test_area!=0)], preds[np.where(test_area!=0)]),3)))\n",
    "plt.show()"
   ]
  },
  {
   "cell_type": "code",
   "execution_count": 233,
   "metadata": {},
   "outputs": [],
   "source": [
    "cm = confusion_matrix(test_area[np.where(test_area!=0)], preds[np.where(test_area!=0)])"
   ]
  },
  {
   "cell_type": "code",
   "execution_count": 234,
   "metadata": {},
   "outputs": [
    {
     "data": {
      "image/png": "[encoded data removed]",
      "text/plain": [
       "<matplotlib.figure.Figure at 0x10fcb1eb8>"
      ]
     },
     "metadata": {},
     "output_type": "display_data"
    }
   ],
   "source": [
    "plot_confusion_matrix(cm, normalize=True, classes=['corn', 'wheat', 'soybeans', 'drybeans', 'sugarbeets'], title='CNN')"
   ]
  },
  {
   "cell_type": "code",
   "execution_count": 235,
   "metadata": {},
   "outputs": [
    {
     "data": {
      "text/plain": [
       "0.8554943718298204"
      ]
     },
     "execution_count": 235,
     "metadata": {},
     "output_type": "execute_result"
    }
   ],
   "source": [
    "accuracy_score(test_area[np.where(test_area!=0)], preds[np.where(test_area!=0)])"
   ]
  },
  {
   "cell_type": "code",
   "execution_count": 236,
   "metadata": {},
   "outputs": [],
   "source": [
    "from keras.utils import plot_model"
   ]
  },
  {
   "cell_type": "code",
   "execution_count": 237,
   "metadata": {},
   "outputs": [],
   "source": [
    "plot_model(gmodel, to_file='model.png', show_layer_names=False, show_shapes=True, rankdir='LR')"
   ]
  },
  {
   "cell_type": "code",
   "execution_count": null,
   "metadata": {},
   "outputs": [],
   "source": []
  }
 ],
 "metadata": {
  "kernelspec": {
   "display_name": "Python 3",
   "language": "python",
   "name": "python3"
  },
  "language_info": {
   "codemirror_mode": {
    "name": "ipython",
    "version": 3
   },
   "file_extension": ".py",
   "mimetype": "text/x-python",
   "name": "python",
   "nbconvert_exporter": "python",
   "pygments_lexer": "ipython3",
   "version": "3.6.2"
  }
 },
 "nbformat": 4,
 "nbformat_minor": 2
}
